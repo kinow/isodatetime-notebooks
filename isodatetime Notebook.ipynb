{
 "cells": [
  {
   "cell_type": "markdown",
   "metadata": {},
   "source": [
    "# isodatetime Notebook\n",
    "\n",
    "A notebook with experiments with [isodatetime](https://github.com/metomi/isodatetime).\n",
    "\n",
    "The project is still not in PyPI or Conda, so we will append its local directory to Python's `syspath`. The library also requires Python 2 right now. So if you are running Jupyter Notebook with Python 3, expect it to fail (so go back and switch to Anaconda 2 :-)"
   ]
  },
  {
   "cell_type": "code",
   "execution_count": 1,
   "metadata": {},
   "outputs": [],
   "source": [
    "import sys\n",
    "sys.path.append('/home/kinow/Development/python/workspace/isodatetime')\n",
    "from isodatetime import data, parsers"
   ]
  },
  {
   "cell_type": "markdown",
   "metadata": {},
   "source": [
    "isodatetime supports the [ISO 8601](https://en.wikipedia.org/wiki/ISO_8601) syntax for date and time, including [Duration](https://en.wikipedia.org/wiki/ISO_8601#Durations)s."
   ]
  },
  {
   "cell_type": "code",
   "execution_count": 2,
   "metadata": {},
   "outputs": [],
   "source": [
    "duration_parser = parsers.DurationParser()\n",
    "duration = duration_parser.parse('P1M')"
   ]
  },
  {
   "cell_type": "markdown",
   "metadata": {},
   "source": [
    "Now with the `Duration` object, one could add it to a `TimePoint`."
   ]
  },
  {
   "cell_type": "code",
   "execution_count": 3,
   "metadata": {},
   "outputs": [
    {
     "name": "stdout",
     "output_type": "stream",
     "text": [
      "2000-01-01T00:00:00Z\n",
      "2000-02-01T00:00:00Z\n"
     ]
    }
   ],
   "source": [
    "time_point = data.TimePoint(year=2000, month_of_year=1, day_of_month=1)\n",
    "print(time_point)\n",
    "time_point_in_future = time_point + duration\n",
    "print(time_point_in_future)"
   ]
  },
  {
   "cell_type": "markdown",
   "metadata": {},
   "source": [
    "Or we can create a `TimeRecurrence`."
   ]
  },
  {
   "cell_type": "code",
   "execution_count": 4,
   "metadata": {},
   "outputs": [
    {
     "name": "stdout",
     "output_type": "stream",
     "text": [
      "2000-01-01T00:00:00Z\n",
      "2000-02-01T00:00:00Z\n",
      "2000-03-01T00:00:00Z\n"
     ]
    }
   ],
   "source": [
    "time_recurrence = data.TimeRecurrence(repetitions=3, start_point=time_point, end_point=None, duration=duration)\n",
    "for t in time_recurrence:\n",
    "    print(t)"
   ]
  },
  {
   "cell_type": "markdown",
   "metadata": {},
   "source": [
    "As you can see, it repeated three times, with a period of one month of duration (`P1M`)."
   ]
  },
  {
   "cell_type": "markdown",
   "metadata": {},
   "source": [
    "But actually you can simplify everything with the following expression and the `TimeRecurrenceParser`."
   ]
  },
  {
   "cell_type": "code",
   "execution_count": 5,
   "metadata": {},
   "outputs": [
    {
     "name": "stdout",
     "output_type": "stream",
     "text": [
      "2000-01-01T00:00:00Z\n",
      "2000-02-01T00:00:00Z\n",
      "2000-03-01T00:00:00Z\n"
     ]
    }
   ],
   "source": [
    "time_recurrence_parser = parsers.TimeRecurrenceParser()\n",
    "another_recurrence = time_recurrence_parser.parse('R3/20000101T000000Z/P1M')\n",
    "for t in another_recurrence:\n",
    "    print(t)"
   ]
  }
 ],
 "metadata": {
  "kernelspec": {
   "display_name": "Python 2",
   "language": "python",
   "name": "python2"
  },
  "language_info": {
   "codemirror_mode": {
    "name": "ipython",
    "version": 2
   },
   "file_extension": ".py",
   "mimetype": "text/x-python",
   "name": "python",
   "nbconvert_exporter": "python",
   "pygments_lexer": "ipython2",
   "version": "2.7.15"
  },
  "widgets": {
   "application/vnd.jupyter.widget-state+json": {
    "state": {},
    "version_major": 2,
    "version_minor": 0
   }
  }
 },
 "nbformat": 4,
 "nbformat_minor": 2
}
